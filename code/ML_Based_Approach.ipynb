{
  "cells": [
    {
      "cell_type": "code",
      "execution_count": 27,
      "metadata": {
        "id": "DW4rRh1bgo9w"
      },
      "outputs": [
        {
          "name": "stdout",
          "output_type": "stream",
          "text": [
            "Requirement already satisfied: scikit-learn in /Users/atharvchandratre/.pyenv/versions/3.9.4/lib/python3.9/site-packages (1.2.0)\n",
            "Requirement already satisfied: numpy in /Users/atharvchandratre/.pyenv/versions/3.9.4/lib/python3.9/site-packages (1.21.1)\n",
            "Requirement already satisfied: pandas in /Users/atharvchandratre/.pyenv/versions/3.9.4/lib/python3.9/site-packages (1.3.1)\n",
            "Requirement already satisfied: scipy>=1.3.2 in /Users/atharvchandratre/.pyenv/versions/3.9.4/lib/python3.9/site-packages (from scikit-learn) (1.9.0.dev0+1091.e569c7a)\n",
            "Requirement already satisfied: joblib>=1.1.1 in /Users/atharvchandratre/.pyenv/versions/3.9.4/lib/python3.9/site-packages (from scikit-learn) (1.2.0)\n",
            "Requirement already satisfied: threadpoolctl>=2.0.0 in /Users/atharvchandratre/.pyenv/versions/3.9.4/lib/python3.9/site-packages (from scikit-learn) (3.1.0)\n",
            "Requirement already satisfied: pytz>=2017.3 in /Users/atharvchandratre/.pyenv/versions/3.9.4/lib/python3.9/site-packages (from pandas) (2021.1)\n",
            "Requirement already satisfied: python-dateutil>=2.7.3 in /Users/atharvchandratre/.pyenv/versions/3.9.4/lib/python3.9/site-packages (from pandas) (2.8.2)\n",
            "Requirement already satisfied: six>=1.5 in /Users/atharvchandratre/.pyenv/versions/3.9.4/lib/python3.9/site-packages (from python-dateutil>=2.7.3->pandas) (1.16.0)\n",
            "Note: you may need to restart the kernel to use updated packages.\n"
          ]
        }
      ],
      "source": [
        "%pip install scikit-learn numpy pandas\n",
        "import numpy as np\n",
        "import pandas as pd\n",
        "import re"
      ]
    },
    {
      "cell_type": "code",
      "execution_count": 28,
      "metadata": {
        "id": "CJet1iLkQ1nG"
      },
      "outputs": [],
      "source": [
        "from textblob import TextBlob"
      ]
    },
    {
      "cell_type": "code",
      "execution_count": 29,
      "metadata": {
        "colab": {
          "base_uri": "https://localhost:8080/"
        },
        "id": "vJcl7Ok7hUp4",
        "outputId": "1f879678-d4ef-4e3d-a36f-5d075edb0046"
      },
      "outputs": [
        {
          "name": "stdout",
          "output_type": "stream",
          "text": [
            "     Column1                Company  \\\n",
            "0          0                Netflix   \n",
            "1          1                   Uber   \n",
            "2          2                   Yext   \n",
            "3          3                   CACI   \n",
            "4          4          Covenant Eyes   \n",
            "..       ...                    ...   \n",
            "117      117  Reynolds and Reynolds   \n",
            "118      118                  Sabre   \n",
            "119      119  Legrand North America   \n",
            "120      120    Samsung Electronics   \n",
            "121      121         Teladoc Health   \n",
            "\n",
            "                                               Reviews HUMAN_LABEL  \n",
            "0    high performance culture challenge netflix ask...    positive  \n",
            "1    pay gone years first started pay great! gas pr...    negative  \n",
            "2    excellent ceo -lucky worked given opportunity ...    negative  \n",
            "3    nice place work great company work benefits gr...    negative  \n",
            "4    best company i’ve ever worked covenant eyes ca...    positive  \n",
            "..                                                 ...         ...  \n",
            "117  5 stars best part working company? management ...    negative  \n",
            "118  easy going workplace “you always deliver work ...    positive  \n",
            "119  best place work managers jobs correctly always...    negative  \n",
            "120  interesting challenging work one favorite comp...    negative  \n",
            "121  well-organized inclusive excellent management ...    negative  \n",
            "\n",
            "[122 rows x 4 columns]\n"
          ]
        }
      ],
      "source": [
        "data = pd.read_csv('../dataset/HumanAnnotatedDataset.csv')\n",
        "print(data)\n",
        "data.Reviews=data.Reviews.astype(str)\n",
        "\n",
        "#Transform text to lowercase\n",
        "data['Reviews'].apply(lambda x: x.lower()) \n",
        "#Removing all punctuations and special characters\n",
        "data['Reviews'] = data['Reviews'].apply(lambda x: re.sub('[^a-zA-z0-9\\s]', '', x)) "
      ]
    },
    {
      "cell_type": "markdown",
      "metadata": {
        "id": "mENa1wMY88my"
      },
      "source": [
        "StopWord Removal"
      ]
    },
    {
      "cell_type": "code",
      "execution_count": 30,
      "metadata": {
        "id": "ByoRzO1E-b2t"
      },
      "outputs": [],
      "source": [
        "english_stopwords = [\"i\", \"me\", \"my\", \"myself\", \"we\", \"our\", \"ours\", \"ourselves\", \"you\", \"your\", \"yours\", \"yourself\", \"yourselves\", \"he\", \"him\", \"his\", \"himself\", \"she\", \"her\", \"hers\", \"herself\", \"it\", \"its\", \"itself\", \"they\", \"them\", \"their\", \"theirs\", \"themselves\", \"what\", \"which\", \"who\", \"whom\", \"this\", \"that\", \"these\", \"those\", \"am\", \"is\", \"are\", \"was\", \"were\", \"be\", \"been\", \"being\", \"have\", \"has\", \"had\", \"having\", \"do\", \"does\", \"did\", \"doing\", \"a\", \"an\", \"the\", \"and\", \"but\", \"if\", \"or\", \"because\", \"as\", \"until\", \"while\", \"of\", \"at\", \"by\", \"for\", \"with\", \"about\", \"against\", \"between\", \"into\", \"through\", \"during\", \"before\", \"after\", \"above\", \"below\", \"to\", \"from\", \"up\", \"down\", \"in\", \"out\", \"on\", \"off\", \"over\", \"under\", \"again\", \"further\", \"then\", \"once\", \"here\", \"there\", \"when\", \"where\", \"why\", \"how\", \"all\", \"any\", \"both\", \"each\", \"few\", \"more\", \"most\", \"other\", \"some\", \"such\", \"no\", \"nor\", \"not\", \"only\", \"own\", \"same\", \"so\", \"than\", \"too\", \"very\", \"s\", \"t\", \"can\", \"will\", \"just\", \"don\", \"should\", \"now\"]\n",
        "stopwords_list = english_stopwords\n",
        "data['Reviews'] = data['Reviews'].apply(lambda x: ' '.join([word for word in x.split() if word not in (stopwords_list)]))"
      ]
    },
    {
      "cell_type": "code",
      "execution_count": 31,
      "metadata": {
        "colab": {
          "base_uri": "https://localhost:8080/",
          "height": 206
        },
        "id": "DltOvRJyhhyb",
        "outputId": "08741532-9201-466f-e99c-d284c9cb30cd"
      },
      "outputs": [
        {
          "data": {
            "text/html": [
              "<div>\n",
              "<style scoped>\n",
              "    .dataframe tbody tr th:only-of-type {\n",
              "        vertical-align: middle;\n",
              "    }\n",
              "\n",
              "    .dataframe tbody tr th {\n",
              "        vertical-align: top;\n",
              "    }\n",
              "\n",
              "    .dataframe thead th {\n",
              "        text-align: right;\n",
              "    }\n",
              "</style>\n",
              "<table border=\"1\" class=\"dataframe\">\n",
              "  <thead>\n",
              "    <tr style=\"text-align: right;\">\n",
              "      <th></th>\n",
              "      <th>Column1</th>\n",
              "      <th>Company</th>\n",
              "      <th>Reviews</th>\n",
              "      <th>HUMAN_LABEL</th>\n",
              "    </tr>\n",
              "  </thead>\n",
              "  <tbody>\n",
              "    <tr>\n",
              "      <th>0</th>\n",
              "      <td>0</td>\n",
              "      <td>Netflix</td>\n",
              "      <td>high performance culture challenge netflix ask...</td>\n",
              "      <td>positive</td>\n",
              "    </tr>\n",
              "    <tr>\n",
              "      <th>1</th>\n",
              "      <td>1</td>\n",
              "      <td>Uber</td>\n",
              "      <td>pay gone years first started pay great gas pri...</td>\n",
              "      <td>negative</td>\n",
              "    </tr>\n",
              "    <tr>\n",
              "      <th>2</th>\n",
              "      <td>2</td>\n",
              "      <td>Yext</td>\n",
              "      <td>excellent ceo lucky worked given opportunity f...</td>\n",
              "      <td>negative</td>\n",
              "    </tr>\n",
              "    <tr>\n",
              "      <th>3</th>\n",
              "      <td>3</td>\n",
              "      <td>CACI</td>\n",
              "      <td>nice place work great company work benefits gr...</td>\n",
              "      <td>negative</td>\n",
              "    </tr>\n",
              "    <tr>\n",
              "      <th>4</th>\n",
              "      <td>4</td>\n",
              "      <td>Covenant Eyes</td>\n",
              "      <td>best company ive ever worked covenant eyes car...</td>\n",
              "      <td>positive</td>\n",
              "    </tr>\n",
              "  </tbody>\n",
              "</table>\n",
              "</div>"
            ],
            "text/plain": [
              "   Column1        Company                                            Reviews  \\\n",
              "0        0        Netflix  high performance culture challenge netflix ask...   \n",
              "1        1           Uber  pay gone years first started pay great gas pri...   \n",
              "2        2           Yext  excellent ceo lucky worked given opportunity f...   \n",
              "3        3           CACI  nice place work great company work benefits gr...   \n",
              "4        4  Covenant Eyes  best company ive ever worked covenant eyes car...   \n",
              "\n",
              "  HUMAN_LABEL  \n",
              "0    positive  \n",
              "1    negative  \n",
              "2    negative  \n",
              "3    negative  \n",
              "4    positive  "
            ]
          },
          "execution_count": 31,
          "metadata": {},
          "output_type": "execute_result"
        }
      ],
      "source": [
        "data.head()"
      ]
    },
    {
      "cell_type": "code",
      "execution_count": 32,
      "metadata": {
        "colab": {
          "base_uri": "https://localhost:8080/"
        },
        "id": "7rRWxaDXh7d1",
        "outputId": "787c7c14-cf48-4b7e-ceec-7b7853e290ff"
      },
      "outputs": [],
      "source": [
        "# count = 0\n",
        "# for index in data.index:\n",
        "#   if data['HUMAN_LABEL'][index] == \"positive\":\n",
        "#     count += 1\n",
        "# print(count)\n"
      ]
    },
    {
      "cell_type": "code",
      "execution_count": 33,
      "metadata": {
        "id": "TOn8Ph_zkvCn"
      },
      "outputs": [],
      "source": [
        "X = data.iloc[:, 2]\n",
        "y = data.iloc[:, -1]"
      ]
    },
    {
      "cell_type": "code",
      "execution_count": 34,
      "metadata": {
        "id": "rPeCofelkLDx"
      },
      "outputs": [],
      "source": [
        "from sklearn.model_selection import train_test_split\n",
        "X_train, X_test, y_train, y_test = train_test_split(X, y, test_size = 0.25, random_state = 42)"
      ]
    },
    {
      "cell_type": "code",
      "execution_count": 35,
      "metadata": {
        "colab": {
          "base_uri": "https://localhost:8080/"
        },
        "id": "Bd8NBZwllXpA",
        "outputId": "bf242f58-f442-42f1-c172-a36b5f9d0879"
      },
      "outputs": [
        {
          "data": {
            "text/plain": [
              "15     low paced environment day consisted learning c...\n",
              "72     good place work fun caring people guess starte...\n",
              "22     good wlb terrible culture never work later sch...\n",
              "116    overall great place intern first internship co...\n",
              "91     fun workplace ive worked almost two years hone...\n",
              "                             ...                        \n",
              "106    good people challenges sort great product visi...\n",
              "14     excellent employer microsoft excellent employe...\n",
              "92     great place work great worklife balance welcom...\n",
              "51     flexible flexible hours management help sucked...\n",
              "102    disconnected benefits mediocre high turnaround...\n",
              "Name: Reviews, Length: 91, dtype: object"
            ]
          },
          "execution_count": 35,
          "metadata": {},
          "output_type": "execute_result"
        }
      ],
      "source": [
        "X_train"
      ]
    },
    {
      "cell_type": "code",
      "execution_count": 36,
      "metadata": {
        "colab": {
          "base_uri": "https://localhost:8080/"
        },
        "id": "tpXiSy-HWNpl",
        "outputId": "b92e20b9-25f0-4c57-8f07-c6802a74ea52"
      },
      "outputs": [
        {
          "data": {
            "text/plain": [
              "18     productive fun place work would definitely rec...\n",
              "45     good work ethics working help client stay clea...\n",
              "47     productive strong work environment good workli...\n",
              "89     much game culture dedicated product ip making ...\n",
              "4      best company ive ever worked covenant eyes car...\n",
              "40     good place work people passionate products tak...\n",
              "62     great place work great place work never job tr...\n",
              "107    small company feel good people small company f...\n",
              "31     overall great place work overall great place w...\n",
              "55     okay often left manage difficult accounts cand...\n",
              "53     feel well cared working gdms nature work fulfi...\n",
              "119    best place work managers jobs correctly always...\n",
              "10     productive fun environment overall kasisto fun...\n",
              "90     electrical repair technician great place work ...\n",
              "109    great wonderful work environment everyone real...\n",
              "11     productive fun workplace learned new things co...\n",
              "76     good pay terrible management management terrib...\n",
              "56     fast moving environment clear mission great pl...\n",
              "115    best job ever working apple great experience w...\n",
              "0      high performance culture challenge netflix ask...\n",
              "26     good place overall treat employees well greet ...\n",
              "44     2 stars best part working company good lower l...\n",
              "66     great experience work fun would definitely wor...\n",
              "98     good job money good good job time money good c...\n",
              "24     productive fun place amazing culture innovatio...\n",
              "42     ok place work good coworkers schedule place di...\n",
              "105    pays extremely well pay almost unbeatable skil...\n",
              "93     intern experience overall lot learning opportu...\n",
              "36     great company salary good great benefits oppor...\n",
              "100    productive workplace fun table tennis outdoor ...\n",
              "12     good place work good perks employee engagement...\n",
              "Name: Reviews, dtype: object"
            ]
          },
          "execution_count": 36,
          "metadata": {},
          "output_type": "execute_result"
        }
      ],
      "source": [
        "X_test"
      ]
    },
    {
      "cell_type": "markdown",
      "metadata": {
        "id": "64Jpb5X89J_U"
      },
      "source": [
        "TfidVectorization"
      ]
    },
    {
      "cell_type": "code",
      "execution_count": 37,
      "metadata": {
        "id": "G6qToO8bkAeC"
      },
      "outputs": [],
      "source": [
        "from sklearn.feature_extraction import text\n",
        "from sklearn.feature_extraction.text import TfidfVectorizer\n",
        "\n",
        "my_stop_words = list(text.ENGLISH_STOP_WORDS)\n",
        "# Create feature vectors\n",
        "vectorizer = TfidfVectorizer(min_df=5,\n",
        "                             max_df=0.95,\n",
        "                             stop_words=my_stop_words,\n",
        "                             sublinear_tf = True,\n",
        "                             use_idf = True,\n",
        "                             ngram_range=(1,1))\n",
        "train_vectors = vectorizer.fit_transform(X_train.values.astype('U'))\n",
        "test_vectors = vectorizer.transform(X_test.values.astype('U'))"
      ]
    },
    {
      "cell_type": "markdown",
      "metadata": {
        "id": "h_iRZGGK9Ow_"
      },
      "source": [
        "Random Forest"
      ]
    },
    {
      "cell_type": "code",
      "execution_count": 38,
      "metadata": {
        "colab": {
          "base_uri": "https://localhost:8080/"
        },
        "id": "_zMpSQxHmghi",
        "outputId": "0164e707-b5cc-476e-a8a4-342955ad9605"
      },
      "outputs": [
        {
          "name": "stdout",
          "output_type": "stream",
          "text": [
            "Training time: 0.125231s; Prediction time: 0.012641s\n",
            "positive:  {'precision': 0.7777777777777778, 'recall': 0.5384615384615384, 'f1-score': 0.6363636363636364, 'support': 13}\n",
            "negative:  {'precision': 0.7272727272727273, 'recall': 0.8888888888888888, 'f1-score': 0.7999999999999999, 'support': 18}\n"
          ]
        }
      ],
      "source": [
        "import time\n",
        "from sklearn.ensemble import RandomForestClassifier\n",
        "from sklearn.metrics import classification_report\n",
        "# Perform classification with SVM, kernel=linear\n",
        "classifier = RandomForestClassifier()\n",
        "t0 = time.time()\n",
        "classifier.fit(train_vectors, y_train)\n",
        "t1 = time.time()\n",
        "prediction = classifier.predict(test_vectors)\n",
        "t2 = time.time()\n",
        "time_linear_train = t1-t0\n",
        "time_linear_predict = t2-t1\n",
        "# results\n",
        "print(\"Training time: %fs; Prediction time: %fs\" % (time_linear_train, time_linear_predict))\n",
        "report = classification_report(y_test, prediction, output_dict=True,labels=np.unique(prediction))\n",
        "print('positive: ', report['positive'])\n",
        "print('negative: ', report['negative'])\n"
      ]
    },
    {
      "cell_type": "markdown",
      "metadata": {
        "id": "spyaukBA9WBF"
      },
      "source": [
        "K-Nearest Neighbors"
      ]
    },
    {
      "cell_type": "code",
      "execution_count": 39,
      "metadata": {
        "colab": {
          "base_uri": "https://localhost:8080/"
        },
        "id": "tZtS4wkUfNzI",
        "outputId": "b90590d3-8a8a-4fb7-ce07-acaade755a8d"
      },
      "outputs": [
        {
          "name": "stdout",
          "output_type": "stream",
          "text": [
            "Training time: 0.002076s; Prediction time: 0.665472s\n",
            "positive:  {'precision': 0.7, 'recall': 0.5384615384615384, 'f1-score': 0.608695652173913, 'support': 13}\n",
            "negative:  {'precision': 0.7142857142857143, 'recall': 0.8333333333333334, 'f1-score': 0.7692307692307692, 'support': 18}\n"
          ]
        }
      ],
      "source": [
        "from sklearn.neighbors import KNeighborsClassifier\n",
        "classifier = KNeighborsClassifier()\n",
        "t0 = time.time()\n",
        "classifier.fit(train_vectors, y_train)\n",
        "t1 = time.time()\n",
        "prediction = classifier.predict(test_vectors)\n",
        "t2 = time.time()\n",
        "time_linear_train = t1-t0\n",
        "time_linear_predict = t2-t1\n",
        "# results\n",
        "print(\"Training time: %fs; Prediction time: %fs\" % (time_linear_train, time_linear_predict))\n",
        "report = classification_report(y_test, prediction, output_dict=True)\n",
        "print('positive: ', report['positive'])\n",
        "print('negative: ', report['negative'])\n"
      ]
    }
  ],
  "metadata": {
    "colab": {
      "provenance": []
    },
    "kernelspec": {
      "display_name": "Python 3",
      "language": "python",
      "name": "python3"
    },
    "language_info": {
      "codemirror_mode": {
        "name": "ipython",
        "version": 3
      },
      "file_extension": ".py",
      "mimetype": "text/x-python",
      "name": "python",
      "nbconvert_exporter": "python",
      "pygments_lexer": "ipython3",
      "version": "3.9.4"
    },
    "vscode": {
      "interpreter": {
        "hash": "cf848db52ef32cc176ed1af497719705d0e2fe62659246413983ac6a5ce0226f"
      }
    }
  },
  "nbformat": 4,
  "nbformat_minor": 0
}
