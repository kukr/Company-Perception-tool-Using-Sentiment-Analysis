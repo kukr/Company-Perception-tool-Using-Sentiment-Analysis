{
 "cells": [
  {
   "cell_type": "code",
   "execution_count": 13,
   "id": "ed730193",
   "metadata": {},
   "outputs": [
    {
     "name": "stdout",
     "output_type": "stream",
     "text": [
      "Requirement already satisfied: numpy in /Users/atharvchandratre/.pyenv/versions/3.9.4/lib/python3.9/site-packages (1.21.1)\n",
      "Requirement already satisfied: pandas in /Users/atharvchandratre/.pyenv/versions/3.9.4/lib/python3.9/site-packages (1.3.1)\n",
      "Requirement already satisfied: nltk in /Users/atharvchandratre/.pyenv/versions/3.9.4/lib/python3.9/site-packages (3.7)\n",
      "Requirement already satisfied: textblob in /Users/atharvchandratre/.pyenv/versions/3.9.4/lib/python3.9/site-packages (0.17.1)\n",
      "Requirement already satisfied: statistics in /Users/atharvchandratre/.pyenv/versions/3.9.4/lib/python3.9/site-packages (1.0.3.5)\n",
      "Requirement already satisfied: pytz>=2017.3 in /Users/atharvchandratre/.pyenv/versions/3.9.4/lib/python3.9/site-packages (from pandas) (2021.1)\n",
      "Requirement already satisfied: python-dateutil>=2.7.3 in /Users/atharvchandratre/.pyenv/versions/3.9.4/lib/python3.9/site-packages (from pandas) (2.8.2)\n",
      "Requirement already satisfied: tqdm in /Users/atharvchandratre/.local/lib/python3.9/site-packages (from nltk) (4.62.3)\n",
      "Requirement already satisfied: click in /Users/atharvchandratre/.pyenv/versions/3.9.4/lib/python3.9/site-packages (from nltk) (8.1.3)\n",
      "Requirement already satisfied: joblib in /Users/atharvchandratre/.pyenv/versions/3.9.4/lib/python3.9/site-packages (from nltk) (1.2.0)\n",
      "Requirement already satisfied: regex>=2021.8.3 in /Users/atharvchandratre/.pyenv/versions/3.9.4/lib/python3.9/site-packages (from nltk) (2022.10.31)\n",
      "Requirement already satisfied: docutils>=0.3 in /Users/atharvchandratre/.pyenv/versions/3.9.4/lib/python3.9/site-packages (from statistics) (0.19)\n",
      "Requirement already satisfied: six>=1.5 in /Users/atharvchandratre/.pyenv/versions/3.9.4/lib/python3.9/site-packages (from python-dateutil>=2.7.3->pandas) (1.16.0)\n",
      "Note: you may need to restart the kernel to use updated packages.\n"
     ]
    },
    {
     "name": "stderr",
     "output_type": "stream",
     "text": [
      "[nltk_data] Downloading package stopwords to\n",
      "[nltk_data]     /Users/atharvchandratre/nltk_data...\n",
      "[nltk_data]   Package stopwords is already up-to-date!\n"
     ]
    },
    {
     "data": {
      "text/plain": [
       "True"
      ]
     },
     "execution_count": 13,
     "metadata": {},
     "output_type": "execute_result"
    }
   ],
   "source": [
    "%pip install numpy pandas nltk textblob statistics\n",
    "import nltk\n",
    "nltk.download('stopwords')"
   ]
  },
  {
   "cell_type": "code",
   "execution_count": 14,
   "id": "d685474c",
   "metadata": {},
   "outputs": [],
   "source": [
    "import numpy as np\n",
    "import pandas as pd\n",
    "import re\n",
    "import nltk\n",
    "from nltk.corpus import stopwords"
   ]
  },
  {
   "cell_type": "code",
   "execution_count": 15,
   "id": "f7ea74e3",
   "metadata": {},
   "outputs": [],
   "source": [
    "data = pd.read_csv('../dataset/dataset.csv', sep='|')\n",
    "data.Reviews=data.Reviews.astype(str)\n",
    "\n",
    "#Transform text to lowercase\n",
    "data['Reviews'] = data['Reviews'].apply(lambda x: x.lower()) \n",
    "#Removing all punctuations and special characters\n",
    "data['Reviews'] = data['Reviews'].apply(lambda x: re.sub('[,.]', '', x))"
   ]
  },
  {
   "cell_type": "code",
   "execution_count": 16,
   "id": "dec54530",
   "metadata": {},
   "outputs": [],
   "source": [
    "stopwords_list = stopwords.words('english')\n",
    "data['Reviews'] = data['Reviews'].apply(lambda x: ' '.join([word for word in x.split() if word not in (stopwords_list)]))"
   ]
  },
  {
   "cell_type": "code",
   "execution_count": 17,
   "id": "8708bb5a",
   "metadata": {},
   "outputs": [
    {
     "name": "stdout",
     "output_type": "stream",
     "text": [
      "                   Company                                            Reviews\n",
      "0                  Netflix  high performance culture challenge netflix ask...\n",
      "1                     Uber  pay gone years first started pay great! gas pr...\n",
      "2                     Yext  excellent ceo -lucky worked given opportunity ...\n",
      "3                     CACI  nice place work great company work benefits gr...\n",
      "4            Covenant Eyes  best company i’ve ever worked covenant eyes ca...\n",
      "..                     ...                                                ...\n",
      "117  Reynolds and Reynolds  5 stars best part working company? management ...\n",
      "118                  Sabre  easy going workplace “you always deliver work ...\n",
      "119  Legrand North America  best place work managers jobs correctly always...\n",
      "120    Samsung Electronics  interesting challenging work one favorite comp...\n",
      "121         Teladoc Health  well-organized inclusive excellent management ...\n",
      "\n",
      "[122 rows x 2 columns]\n"
     ]
    }
   ],
   "source": [
    "print(data)"
   ]
  },
  {
   "cell_type": "code",
   "execution_count": 18,
   "id": "cd309ad3",
   "metadata": {},
   "outputs": [],
   "source": [
    "from textblob import TextBlob"
   ]
  },
  {
   "cell_type": "code",
   "execution_count": 19,
   "id": "98d8c815",
   "metadata": {},
   "outputs": [],
   "source": [
    "score_list=[]\n",
    "\n",
    "for text in data['Reviews']:\n",
    "  \n",
    "  sentence = TextBlob(text)\n",
    "  \n",
    "  score = sentence.sentiment.polarity\n",
    "  score_list.append(score)"
   ]
  },
  {
   "cell_type": "code",
   "execution_count": 20,
   "id": "be71bcf6",
   "metadata": {},
   "outputs": [
    {
     "name": "stdout",
     "output_type": "stream",
     "text": [
      "0.24523521411378624\n"
     ]
    }
   ],
   "source": [
    "import statistics\n",
    "median = statistics.median(score_list)\n",
    "print(median)"
   ]
  },
  {
   "cell_type": "code",
   "execution_count": 21,
   "id": "47ce57ba",
   "metadata": {},
   "outputs": [
    {
     "name": "stdout",
     "output_type": "stream",
     "text": [
      "['positive', 'negative', 'negative', 'negative', 'positive', 'negative', 'positive', 'negative', 'positive', 'negative', 'positive', 'negative', 'positive', 'negative', 'positive', 'negative', 'positive', 'positive', 'negative', 'negative', 'negative', 'negative', 'negative', 'positive', 'positive', 'positive', 'negative', 'positive', 'positive', 'positive', 'negative', 'positive', 'negative', 'negative', 'positive', 'positive', 'positive', 'negative', 'negative', 'negative', 'positive', 'positive', 'negative', 'negative', 'negative', 'positive', 'positive', 'positive', 'positive', 'positive', 'negative', 'positive', 'positive', 'positive', 'negative', 'negative', 'positive', 'positive', 'positive', 'positive', 'negative', 'negative', 'positive', 'negative', 'positive', 'positive', 'positive', 'positive', 'negative', 'negative', 'negative', 'negative', 'positive', 'positive', 'positive', 'positive', 'negative', 'positive', 'negative', 'negative', 'negative', 'negative', 'positive', 'positive', 'positive', 'negative', 'positive', 'positive', 'negative', 'negative', 'negative', 'positive', 'negative', 'positive', 'negative', 'negative', 'positive', 'negative', 'positive', 'negative', 'positive', 'negative', 'negative', 'negative', 'negative', 'positive', 'negative', 'negative', 'negative', 'positive', 'negative', 'positive', 'positive', 'negative', 'positive', 'positive', 'positive', 'negative', 'positive', 'negative', 'negative', 'negative']\n"
     ]
    }
   ],
   "source": [
    "sentiment_label = []\n",
    "for score in score_list:\n",
    "  if score > median:\n",
    "    sentiment_label.append('positive')\n",
    "  elif score < median:\n",
    "    sentiment_label.append('negative')\n",
    "  else:\n",
    "    sentiment_label.append('neutral')\n",
    "print(sentiment_label)"
   ]
  },
  {
   "cell_type": "code",
   "execution_count": 22,
   "id": "86351a7f",
   "metadata": {},
   "outputs": [
    {
     "name": "stdout",
     "output_type": "stream",
     "text": [
      "                   Company                                            Reviews  \\\n",
      "0                  Netflix  high performance culture challenge netflix ask...   \n",
      "1                     Uber  pay gone years first started pay great! gas pr...   \n",
      "2                     Yext  excellent ceo -lucky worked given opportunity ...   \n",
      "3                     CACI  nice place work great company work benefits gr...   \n",
      "4            Covenant Eyes  best company i’ve ever worked covenant eyes ca...   \n",
      "..                     ...                                                ...   \n",
      "117  Reynolds and Reynolds  5 stars best part working company? management ...   \n",
      "118                  Sabre  easy going workplace “you always deliver work ...   \n",
      "119  Legrand North America  best place work managers jobs correctly always...   \n",
      "120    Samsung Electronics  interesting challenging work one favorite comp...   \n",
      "121         Teladoc Health  well-organized inclusive excellent management ...   \n",
      "\n",
      "        SCORE SENTIMENT_LABEL  \n",
      "0    0.307785        positive  \n",
      "1    0.236033        negative  \n",
      "2    0.224165        negative  \n",
      "3    0.195753        negative  \n",
      "4    0.459111        positive  \n",
      "..        ...             ...  \n",
      "117  0.204697        negative  \n",
      "118  0.283487        positive  \n",
      "119  0.172762        negative  \n",
      "120  0.217759        negative  \n",
      "121  0.201389        negative  \n",
      "\n",
      "[122 rows x 4 columns]\n"
     ]
    }
   ],
   "source": [
    "dataset = data\n",
    "dataset['SCORE']=score_list\n",
    "dataset['SENTIMENT_LABEL']=sentiment_label\n",
    "print(dataset)\n",
    "dataset.to_csv(\"../dataset/TextBlobResultswithMedian.csv\", sep='|')"
   ]
  },
  {
   "cell_type": "code",
   "execution_count": 23,
   "id": "db2ffbfc",
   "metadata": {},
   "outputs": [
    {
     "name": "stdout",
     "output_type": "stream",
     "text": [
      "Positive Precision:  0.6721311475409836\n",
      "Positive Recall:  0.8913043478260869\n",
      "Positive F-Score:  0.7663551401869158\n",
      "\n",
      "\n",
      "Negative Precision:  0.9180327868852459\n",
      "Negative Recall:  0.7368421052631579\n",
      "Negative F-Score:  0.8175182481751824\n"
     ]
    }
   ],
   "source": [
    "human_data = pd.read_csv('../dataset/HumanAnnotatedDataset.csv', sep=',')\n",
    "\n",
    "Pos_Fal_neg = 0.0\n",
    "Pos_Tru_pos = 0.0\n",
    "Neg_Tru_neg = 0.0\n",
    "Neg_Fal_pos = 0.0\n",
    "\n",
    "\n",
    "for ind in range(len(sentiment_label)):\n",
    "  \n",
    "    if sentiment_label[ind] == 'positive' and human_data['HUMAN_LABEL'][ind] == 'negative':\n",
    "        Neg_Fal_pos += 1\n",
    "    elif sentiment_label[ind] == 'negative' and human_data['HUMAN_LABEL'][ind] == 'positive':\n",
    "        Pos_Fal_neg += 1\n",
    "    elif sentiment_label[ind] == 'positive' and human_data['HUMAN_LABEL'][ind] == 'positive':\n",
    "        Pos_Tru_pos += 1\n",
    "    elif sentiment_label[ind] == 'negative' and human_data['HUMAN_LABEL'][ind] == 'negative':\n",
    "        Neg_Tru_neg += 1\n",
    "\n",
    "\n",
    "Pos_Prec = (Pos_Tru_pos)/(Pos_Tru_pos + Neg_Fal_pos)\n",
    "Pos_Recal = (Pos_Tru_pos)/(Pos_Tru_pos + Pos_Fal_neg)\n",
    "Pos_FScore = (2*Pos_Prec*Pos_Recal)/(Pos_Prec + Pos_Recal)\n",
    "\n",
    "Neg_Prec = (Neg_Tru_neg)/(Neg_Tru_neg + Pos_Fal_neg)\n",
    "Neg_Recal = (Neg_Tru_neg)/(Neg_Tru_neg + Neg_Fal_pos)\n",
    "Neg_FScore = (2*Neg_Prec*Neg_Recal)/(Neg_Prec + Neg_Recal)\n",
    "        \n",
    "    \n",
    "print(\"Positive Precision: \", Pos_Prec)\n",
    "print(\"Positive Recall: \", Pos_Recal)\n",
    "print(\"Positive F-Score: \", Pos_FScore)\n",
    "\n",
    "print(\"\\n\")\n",
    "\n",
    "print(\"Negative Precision: \", Neg_Prec)\n",
    "print(\"Negative Recall: \", Neg_Recal)\n",
    "print(\"Negative F-Score: \", Neg_FScore)"
   ]
  }
 ],
 "metadata": {
  "kernelspec": {
   "display_name": "Python 3 (ipykernel)",
   "language": "python",
   "name": "python3"
  },
  "language_info": {
   "codemirror_mode": {
    "name": "ipython",
    "version": 3
   },
   "file_extension": ".py",
   "mimetype": "text/x-python",
   "name": "python",
   "nbconvert_exporter": "python",
   "pygments_lexer": "ipython3",
   "version": "3.9.12"
  },
  "vscode": {
   "interpreter": {
    "hash": "cf848db52ef32cc176ed1af497719705d0e2fe62659246413983ac6a5ce0226f"
   }
  }
 },
 "nbformat": 4,
 "nbformat_minor": 5
}
